{
 "cells": [
  {
   "cell_type": "code",
   "execution_count": 24,
   "metadata": {},
   "outputs": [
    {
     "name": "stdout",
     "output_type": "stream",
     "text": [
      "[ 15209  24861  31370  43925  50477  61876  70229  76644  78907 104430\n",
      " 118265 122081 123752 128740 130040 130185 131782 134173 138306 140535\n",
      " 146098 152400 166756 183386 184480 192657 208834 219041 236533 298182\n",
      " 357408 364756 443759 521405]\n"
     ]
    }
   ],
   "source": [
    "import os\n",
    "import glob\n",
    "import numpy as np\n",
    "\n",
    "\n",
    "Old_list=glob.glob('./Old_yato/old_text/*.txt')\n",
    "New_list=glob.glob('./New_yato/new_text/*.txt')\n",
    "\n",
    "# print(New_list)\n",
    "\n",
    "# New_size=[f for f in os.path.getsize(glob.glob('./Old_yato/old_text/*.txt'))]\n",
    "new_data=[]\n",
    "# print(New_size)\n",
    "for new in New_list:\n",
    "#     print(os.path.getsize(new))\n",
    "#     print(os.path.getsize(old))\n",
    "    new_data.append(os.path.getsize(new))\n",
    "\n",
    "\n",
    "print(np.sort(np.array(new_data)))\n",
    "old_data=[]\n",
    "\n",
    "for new,old in zip(New_list,Old_list):\n",
    "#     print(os.path.getsize(new))\n",
    "#     print(os.path.getsize(old))\n",
    "    old_data.append(os.path.getsize(old))\n",
    "    \n",
    "\n",
    "old_data=np.array(old_data)    \n",
    "# new_data=np.array(new_data)    \n",
    "# print(old_data)\n",
    "# print(new_data)\n",
    "# print(np.corrcoef(old_data,new_data)[0,1])"
   ]
  },
  {
   "cell_type": "code",
   "execution_count": 10,
   "metadata": {},
   "outputs": [],
   "source": [
    "def choose(L: [int], chooseNum: int, now=None) -> [int]:\n",
    "\n",
    "    # nowが最終的に返すリスト\n",
    "    # 空リストで初期化\n",
    "\n",
    "    if now == None:\n",
    "        now = []\n",
    "\n",
    "    # \"Lから0個選ぶ\"という操作に対してはnowをそのまま返す\n",
    "\n",
    "    if chooseNum == 0:\n",
    "        yield now\n",
    "\n",
    "    # chooseNumが1以上の場合\n",
    "\n",
    "    else:\n",
    "\n",
    "        # Lの先頭からlen(L) - (chooseNum - 1) - 1番目までの要素の内どれか1つ選ぶ\n",
    "        # Lから選ぶ範囲を制限することにより[0, 1, 2]と[1, 0, 2]のような重複を除く\n",
    "        # chooseNumから1ひいて再帰のような操作を行う\n",
    "\n",
    "        for i in range(0, len(L) - (chooseNum - 1)):\n",
    "            yield from choose(L[i + 1:], chooseNum - 1, now + [L[i]])"
   ]
  },
  {
   "cell_type": "code",
   "execution_count": 21,
   "metadata": {},
   "outputs": [
    {
     "name": "stdout",
     "output_type": "stream",
     "text": [
      "0.8971009913080525\n",
      "0.8973509915922789\n",
      "0.8990452349038364\n",
      "0.8991093749668613\n",
      "0.8993805755121868\n",
      "0.899495761516116\n",
      "0.8996575775090303\n",
      "0.8998004844567481\n",
      "0.8998069062091788\n",
      "0.9001623489233233\n",
      "0.9002215060945069\n",
      "0.9051952354266638\n",
      "0.9052986665193881\n",
      "0.9056483968774436\n",
      "0.9058706640559161\n",
      "0.9058920364965806\n",
      "0.9058939798229145\n",
      "0.924002519419553\n",
      "0.9250514940291161\n",
      "0.9250844440221363\n",
      "0.9254541477914903\n",
      "0.9339998651440496\n",
      "0.934063693601637\n",
      "0.9340956579293596\n",
      "0.9350933782298355\n",
      "0.9377733706046225\n",
      "0.9377767013018498\n",
      "0.9378940279384974\n",
      "0.9390102915005731\n",
      "0.9630160747470665\n",
      "0.9635098861755267\n",
      "0.964175338993302\n",
      "0.965300469916647\n",
      "0.9778855718287186\n",
      "0.9823851849163038\n",
      "0.9840559099683404\n",
      "0.9840753990026607\n",
      "0.9850605888301539\n",
      "0.992340169801629\n",
      "0.9944290230702784\n",
      "0.9945260718829522\n",
      "0.9950909452488528\n",
      "[ 15209  24861  31370  43925  50477  61876  70229  76644  78907 104430\n",
      " 118265 122081 123752 128740 130040 130185 131782 134173 138306 140535\n",
      " 146098 152400 166756 183386 184480 192657 208834 219041 521405]\n"
     ]
    }
   ],
   "source": [
    "temp=0\n",
    "data=[]\n",
    "for merge in choose(new_data,29):\n",
    "    \n",
    "    merge=np.sort(np.array(merge))\n",
    "    old_data=np.sort(old_data)\n",
    "    \n",
    "    if temp<np.corrcoef(old_data,merge)[0,1]:\n",
    "        temp=np.corrcoef(old_data,merge)[0,1]\n",
    "        print(temp)\n",
    "        data=merge\n",
    "    \n",
    "print(data)    "
   ]
  },
  {
   "cell_type": "code",
   "execution_count": null,
   "metadata": {},
   "outputs": [],
   "source": [
    "[ 15209  24861  31370  43925  50477  61876  70229  76644  78907 104430\n",
    " 118265 122081 123752 128740 130040 130185 131782 134173 138306 140535\n",
    " 146098 152400 166756 183386 184480 192657 208834 219041 521405]\n",
    "\n",
    "[ 15209  24861  31370  43925  50477  61876  70229  76644  78907 104430\n",
    " 118265 122081 123752 128740 130040 130185 131782 134173 138306 140535\n",
    " 146098 152400 166756 183386 184480 192657 208834 219041 236533 298182\n",
    " 357408 364756 443759 521405]"
   ]
  }
 ],
 "metadata": {
  "kernelspec": {
   "display_name": "Python 3",
   "language": "python",
   "name": "python3"
  },
  "language_info": {
   "codemirror_mode": {
    "name": "ipython",
    "version": 3
   },
   "file_extension": ".py",
   "mimetype": "text/x-python",
   "name": "python",
   "nbconvert_exporter": "python",
   "pygments_lexer": "ipython3",
   "version": "3.6.5"
  }
 },
 "nbformat": 4,
 "nbformat_minor": 2
}
