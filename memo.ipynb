{
 "cells": [
  {
   "cell_type": "code",
   "execution_count": null,
   "metadata": {},
   "outputs": [],
   "source": [
    "#最大エントロピー法に渡す形に成型する。\n",
    "def Output_matsubi_BoWList(write_file,mecab_file):\n",
    "    word=\"\"\n",
    "    word_list=\"\"\n",
    "    for morphemes in make_lines2(mecab_file):\n",
    "#形態素の数だけ取得し、コーパスに加えている\n",
    "        if len(morphemes)>=5:\n",
    "            copus.append(morphemes[-5]+morphemes[-4]+morphemes[-3]+morphemes[-2])\n",
    "            copus.append(' ')\n",
    "        elif len(morphemes)>=4:\n",
    "            copus.append(morphemes[-4]+morphemes[-3]+morphemes[-2])\n",
    "            copus.append(' ')\n",
    "        elif len(morphemes)>=3:\n",
    "            copus.append(morphemes[-3]+morphemes[-2])\n",
    "            copus.append(' ')\n",
    "        elif len(morphemes)>=2:\n",
    "            copus.append(morphemes[-2])\n",
    "            copus.append(' ')\n",
    "#リストの要素を取り出し、一つの文字列にしている。\n",
    "    word=''.join(str(copus))\n",
    "#     with open('categoly2.txt',mode='w') as out_file:\n",
    "#         out_file.write(word)\n",
    "    return word      \n",
    " \n",
    "\n",
    "docs3=[]\n",
    "# Save_name_list2=glob.glob(r'C:\\Users\\icech\\Desktop\\share\\Lab\\2018_07_04\\Docments\\Old_yato\\old_text/*.txt')\n",
    "Mecab_path_list2=glob.glob(r'C:\\Users\\icech\\Desktop\\share\\Lab\\2018_07_04\\Docments\\Old_yato\\Matubi/*.txt')\n",
    "\n",
    "\n",
    "for i,(path,f2) in enumerate(zip(Mecab_path_list2,Save_name_list2)):\n",
    "    ftitle2,fext2=os.path.splitext(f2)\n",
    "    copus=[]\n",
    "    copus.append('category2@none@{}@none@none@none@none'.format(ftitle2))\n",
    "    copus.append(' ')\n",
    "    \n",
    "    docs3.append(Output_matsubi_BoWList('{}_fixed_new_matubi.txt'.format(i),'{}.mecab'.format(path)))"
   ]
  }
 ],
 "metadata": {
  "kernelspec": {
   "display_name": "Python 3",
   "language": "python",
   "name": "python3"
  },
  "language_info": {
   "codemirror_mode": {
    "name": "ipython",
    "version": 3
   },
   "file_extension": ".py",
   "mimetype": "text/x-python",
   "name": "python",
   "nbconvert_exporter": "python",
   "pygments_lexer": "ipython3",
   "version": "3.6.5"
  }
 },
 "nbformat": 4,
 "nbformat_minor": 2
}
