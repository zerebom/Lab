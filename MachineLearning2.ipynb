{
 "cells": [
  {
   "cell_type": "code",
   "execution_count": 2,
   "metadata": {},
   "outputs": [],
   "source": [
    "import glob\n",
    "import random\n",
    "import numpy as np\n",
    "from sklearn.feature_extraction.text import CountVectorizer\n",
    "from sklearn.naive_bayes import MultinomialNB\n",
    "from sklearn.ensemble import RandomForestClassifier\n",
    "from sklearn.model_selection import train_test_split\n",
    "from Mecab_func import*\n",
    "from collections import Counter\n",
    "from sklearn.metrics import classification_report\n",
    "from sklearn.model_selection import cross_val_score\n",
    "from sklearn.tree import DecisionTreeClassifier\n",
    "from sklearn.linear_model import LogisticRegression\n",
    "from sklearn.svm import SVC\n",
    "from sklearn.model_selection import RandomizedSearchCV\n",
    "from sklearn.model_selection import GridSearchCV"
   ]
  },
  {
   "cell_type": "code",
   "execution_count": 20,
   "metadata": {},
   "outputs": [
    {
     "name": "stdout",
     "output_type": "stream",
     "text": [
      "go new\n"
     ]
    },
    {
     "name": "stderr",
     "output_type": "stream",
     "text": [
      "c:\\users\\icech\\appdata\\local\\programs\\python\\python36\\lib\\site-packages\\ipykernel_launcher.py:7: DeprecationWarning: generator 'make_lines2' raised StopIteration\n",
      "  import sys\n",
      "c:\\users\\icech\\appdata\\local\\programs\\python\\python36\\lib\\site-packages\\ipykernel_launcher.py:23: DeprecationWarning: generator 'make_lines2' raised StopIteration\n"
     ]
    },
    {
     "name": "stdout",
     "output_type": "stream",
     "text": [
      "go old\n",
      "['C:\\\\Users\\\\icech\\\\Desktop\\\\share\\\\Lab\\\\2018_07_04\\\\Docments\\\\New_yato\\\\Matubi2\\\\00_津村啓介_matubi.txt', 'C:\\\\Users\\\\icech\\\\Desktop\\\\share\\\\Lab\\\\2018_07_04\\\\Docments\\\\New_yato\\\\Matubi2\\\\01_前原誠司_matubi.txt', 'C:\\\\Users\\\\icech\\\\Desktop\\\\share\\\\Lab\\\\2018_07_04\\\\Docments\\\\New_yato\\\\Matubi2\\\\02_小川淳也_matubi.txt', 'C:\\\\Users\\\\icech\\\\Desktop\\\\share\\\\Lab\\\\2018_07_04\\\\Docments\\\\New_yato\\\\Matubi2\\\\03_階猛_matubi.txt', 'C:\\\\Users\\\\icech\\\\Desktop\\\\share\\\\Lab\\\\2018_07_04\\\\Docments\\\\New_yato\\\\Matubi2\\\\04_辻元清美_matubi.txt', 'C:\\\\Users\\\\icech\\\\Desktop\\\\share\\\\Lab\\\\2018_07_04\\\\Docments\\\\New_yato\\\\Matubi2\\\\05_細野豪志_matubi.txt', 'C:\\\\Users\\\\icech\\\\Desktop\\\\share\\\\Lab\\\\2018_07_04\\\\Docments\\\\New_yato\\\\Matubi2\\\\06_山井和則_matubi.txt', 'C:\\\\Users\\\\icech\\\\Desktop\\\\share\\\\Lab\\\\2018_07_04\\\\Docments\\\\New_yato\\\\Matubi2\\\\07_宮崎岳志_matubi.txt', 'C:\\\\Users\\\\icech\\\\Desktop\\\\share\\\\Lab\\\\2018_07_04\\\\Docments\\\\New_yato\\\\Matubi2\\\\08_本村賢太郎_matubi.txt', 'C:\\\\Users\\\\icech\\\\Desktop\\\\share\\\\Lab\\\\2018_07_04\\\\Docments\\\\New_yato\\\\Matubi2\\\\09_岸本周平_matubi.txt', 'C:\\\\Users\\\\icech\\\\Desktop\\\\share\\\\Lab\\\\2018_07_04\\\\Docments\\\\New_yato\\\\Matubi2\\\\10_後藤祐一_matubi.txt', 'C:\\\\Users\\\\icech\\\\Desktop\\\\share\\\\Lab\\\\2018_07_04\\\\Docments\\\\New_yato\\\\Matubi2\\\\11_井出庸生_matubi.txt', 'C:\\\\Users\\\\icech\\\\Desktop\\\\share\\\\Lab\\\\2018_07_04\\\\Docments\\\\New_yato\\\\Matubi2\\\\12_馬淵澄夫_matubi.txt', 'C:\\\\Users\\\\icech\\\\Desktop\\\\share\\\\Lab\\\\2018_07_04\\\\Docments\\\\New_yato\\\\Matubi2\\\\13_石関貴史_matubi.txt', 'C:\\\\Users\\\\icech\\\\Desktop\\\\share\\\\Lab\\\\2018_07_04\\\\Docments\\\\New_yato\\\\Matubi2\\\\14_緒方林太郎_matubi.txt', 'C:\\\\Users\\\\icech\\\\Desktop\\\\share\\\\Lab\\\\2018_07_04\\\\Docments\\\\New_yato\\\\Matubi2\\\\15_大西健介_matubi.txt', 'C:\\\\Users\\\\icech\\\\Desktop\\\\share\\\\Lab\\\\2018_07_04\\\\Docments\\\\New_yato\\\\Matubi2\\\\16_西村智奈美_matubi.txt', 'C:\\\\Users\\\\icech\\\\Desktop\\\\share\\\\Lab\\\\2018_07_04\\\\Docments\\\\New_yato\\\\Matubi2\\\\17_福島伸享_matubi.txt', 'C:\\\\Users\\\\icech\\\\Desktop\\\\share\\\\Lab\\\\2018_07_04\\\\Docments\\\\New_yato\\\\Matubi2\\\\18_松野頼久_matubi.txt', 'C:\\\\Users\\\\icech\\\\Desktop\\\\share\\\\Lab\\\\2018_07_04\\\\Docments\\\\New_yato\\\\Matubi2\\\\19_初鹿明博_matubi.txt', 'C:\\\\Users\\\\icech\\\\Desktop\\\\share\\\\Lab\\\\2018_07_04\\\\Docments\\\\New_yato\\\\Matubi2\\\\20_阿部知子_matubi.txt', 'C:\\\\Users\\\\icech\\\\Desktop\\\\share\\\\Lab\\\\2018_07_04\\\\Docments\\\\New_yato\\\\Matubi2\\\\21_岡本充功_matubi.txt', 'C:\\\\Users\\\\icech\\\\Desktop\\\\share\\\\Lab\\\\2018_07_04\\\\Docments\\\\New_yato\\\\Matubi2\\\\22_小山展弘_matubi.txt', 'C:\\\\Users\\\\icech\\\\Desktop\\\\share\\\\Lab\\\\2018_07_04\\\\Docments\\\\New_yato\\\\Matubi2\\\\23_渡辺周_matubi.txt', 'C:\\\\Users\\\\icech\\\\Desktop\\\\share\\\\Lab\\\\2018_07_04\\\\Docments\\\\New_yato\\\\Matubi2\\\\24_逢坂誠二_matubi.txt', 'C:\\\\Users\\\\icech\\\\Desktop\\\\share\\\\Lab\\\\2018_07_04\\\\Docments\\\\New_yato\\\\Matubi2\\\\25_青柳陽一郎_matubi.txt', 'C:\\\\Users\\\\icech\\\\Desktop\\\\share\\\\Lab\\\\2018_07_04\\\\Docments\\\\New_yato\\\\Matubi2\\\\26_落合貴之_matubi.txt', 'C:\\\\Users\\\\icech\\\\Desktop\\\\share\\\\Lab\\\\2018_07_04\\\\Docments\\\\New_yato\\\\Matubi2\\\\27_小熊慎司_matubi.txt', 'C:\\\\Users\\\\icech\\\\Desktop\\\\share\\\\Lab\\\\2018_07_04\\\\Docments\\\\New_yato\\\\Matubi2\\\\28_長妻昭_matubi.txt', 'C:\\\\Users\\\\icech\\\\Desktop\\\\share\\\\Lab\\\\2018_07_04\\\\Docments\\\\New_yato\\\\Matubi2\\\\29_大串博志_matubi.txt', 'C:\\\\Users\\\\icech\\\\Desktop\\\\share\\\\Lab\\\\2018_07_04\\\\Docments\\\\New_yato\\\\Matubi2\\\\30_岡田克也_matubi.txt', 'C:\\\\Users\\\\icech\\\\Desktop\\\\share\\\\Lab\\\\2018_07_04\\\\Docments\\\\New_yato\\\\Matubi2\\\\31_篠原孝_matubi.txt', 'C:\\\\Users\\\\icech\\\\Desktop\\\\share\\\\Lab\\\\2018_07_04\\\\Docments\\\\New_yato\\\\Matubi2\\\\32_玉木雄一郎_matubi.txt', 'C:\\\\Users\\\\icech\\\\Desktop\\\\share\\\\Lab\\\\2018_07_04\\\\Docments\\\\New_yato\\\\Matubi2\\\\33_古川元久_matubi.txt']\n",
      "476\n",
      "Done\n"
     ]
    }
   ],
   "source": [
    "def Output_matsubi_BoWList(mecab_file,matubi):\n",
    "    copus=[]\n",
    "    #語数カウンター\n",
    "    word=\"\"\n",
    "    \n",
    "    if matubi==4:\n",
    "        for morphemes in make_lines2(mecab_file):\n",
    "\n",
    "            if len(morphemes)>=5:\n",
    "                copus.append(morphemes[-5]+morphemes[-4]+morphemes[-3]+morphemes[-2])\n",
    "            elif len(morphemes)>=4:\n",
    "                copus.append(morphemes[-4]+morphemes[-3]+morphemes[-2])\n",
    "            elif len(morphemes)>=3:\n",
    "                copus.append(morphemes[-3]+morphemes[-2])\n",
    "            elif len(morphemes)>=2:\n",
    "                copus.append(morphemes[-2])\n",
    "        word=''.join(str(copus))\n",
    "    #     copus_unique=sorted(set(copus),key=copus.index)\n",
    "    #     word=' '.join(copus_unique)\n",
    "        return word      \n",
    "\n",
    "    elif matubi==3:\n",
    "        for morphemes in make_lines2(mecab_file):\n",
    "\n",
    "            if len(morphemes)>=4:\n",
    "                copus.append(morphemes[-4]+morphemes[-3]+morphemes[-2])\n",
    "            elif len(morphemes)>=3:\n",
    "                copus.append(morphemes[-3]+morphemes[-2])\n",
    "            elif len(morphemes)>=2:\n",
    "                copus.append(morphemes[-2])\n",
    "        word=''.join(str(copus))\n",
    "    #     copus_unique=sorted(set(copus),key=copus.index)\n",
    "    #     word=' '.join(copus_unique)\n",
    "        return word    \n",
    "    else:\n",
    "        print('error')\n",
    "\n",
    "#Matubi2を選択➡34対29で計算\n",
    "#Matubiを選択➡28対28\n",
    "\n",
    "# docs_new=docs_new2=docs_new3=docs_new4=docs_old=docs_old2=docs_old3=docs_old4=[]\n",
    "labels_new=labels_new2=labels_old=labels_old2=[]\n",
    "\n",
    "path_new=glob.glob(r'C:\\Users\\icech\\Desktop\\share\\Lab\\2018_07_04\\Docments\\New_yato\\Matubi/*.txt')\n",
    "path_old=glob.glob(r'C:\\Users\\icech\\Desktop\\share\\Lab\\2018_07_04\\Docments\\Old_yato\\Matubi/*.txt')\n",
    "\n",
    "#↓大きさ28同士、末尾4語と3語\n",
    "\n",
    "# for i,(path_new,path_old) in enumerate(zip(path_new,path_old)):\n",
    "#     docs_new.append(Output_matsubi_BoWList('{}.mecab'.format(path_new),4))\n",
    "#     docs_old.append(Output_matsubi_BoWList('{}.mecab'.format(path_old),4))\n",
    "#     docs_new2.append(Output_matsubi_BoWList('{}.mecab'.format(path_new),3))\n",
    "#     docs_old2.append(Output_matsubi_BoWList('{}.mecab'.format(path_old),3))\n",
    "\n",
    "print(\"go new\")\n",
    "for i,new in enumerate(path_new):\n",
    "    docs_new.append(Output_matsubi_BoWList('{}.mecab'.format(new),4))\n",
    "    docs_new2.append(Output_matsubi_BoWList('{}.mecab'.format(new),3))    \n",
    "\n",
    "print(\"go old\")    \n",
    "for i,old in enumerate(path_old):\n",
    "    docs_old.append(Output_matsubi_BoWList('{}.mecab'.format(old),4))\n",
    "    docs_old2.append(Output_matsubi_BoWList('{}.mecab'.format(old),3))    \n",
    "    \n",
    "\n",
    "labels_new=np.ones(len(path_new))\n",
    "labels_old=np.zeros(len(path_old))\n",
    "\n",
    "\n",
    "path_new2=glob.glob(r'C:\\Users\\icech\\Desktop\\share\\Lab\\2018_07_04\\Docments\\New_yato\\Matubi2/*.txt')\n",
    "path_old2=glob.glob(r'C:\\Users\\icech\\Desktop\\share\\Lab\\2018_07_04\\Docments\\Old_yato\\Matubi2/*.txt')\n",
    "\n",
    "print(path_new2)\n",
    "\n",
    "#↓大きさ別々、末尾4語と3語\n",
    "for i,new in enumerate(path_new2):\n",
    "    docs_new3.append(Output_matsubi_BoWList('{}.mecab'.format(new),4))\n",
    "#     docs_new4.append(Output_matsubi_BoWList('{}.mecab'.format(new),3))\n",
    "\n",
    "\n",
    "\n",
    "for i,old in enumerate(path_old2):\n",
    "#     docs_old3.append(Output_matsubi_BoWList('{}.mecab'.format(old),4))\n",
    "#     docs_old4.append(Output_matsubi_BoWList('{}.mecab'.format(old),3))\n",
    "\n",
    "labels_new2=np.ones(len(path_new2))\n",
    "labels_old2=np.zeros(len(path_old2))\n",
    "\n",
    "    \n",
    "print(len(docs_new))\n",
    "print('Done')        "
   ]
  },
  {
   "cell_type": "code",
   "execution_count": 21,
   "metadata": {},
   "outputs": [
    {
     "name": "stdout",
     "output_type": "stream",
     "text": [
      "476\n",
      "952 952 952 952\n",
      "56 63\n"
     ]
    }
   ],
   "source": [
    "labels=np.hstack((labels_new,labels_old))\n",
    "labels2=np.hstack((labels_new2,labels_old2))\n",
    "\n",
    "print(len(docs_old))\n",
    "docs=np.array(docs_new+docs_old)\n",
    "docs2=np.array(docs_new2+docs_old2)\n",
    "docs3=np.array(docs_new3+docs_old3)\n",
    "docs4=np.array(docs_new4+docs_old4)\n",
    "\n",
    "\n",
    "\n",
    "print(len(docs),len(docs2),len(docs3),len(docs4))\n",
    "print(len(labels),len(labels2))"
   ]
  },
  {
   "cell_type": "code",
   "execution_count": null,
   "metadata": {},
   "outputs": [],
   "source": []
  }
 ],
 "metadata": {
  "kernelspec": {
   "display_name": "Python 3",
   "language": "python",
   "name": "python3"
  },
  "language_info": {
   "codemirror_mode": {
    "name": "ipython",
    "version": 3
   },
   "file_extension": ".py",
   "mimetype": "text/x-python",
   "name": "python",
   "nbconvert_exporter": "python",
   "pygments_lexer": "ipython3",
   "version": "3.6.5"
  }
 },
 "nbformat": 4,
 "nbformat_minor": 2
}
